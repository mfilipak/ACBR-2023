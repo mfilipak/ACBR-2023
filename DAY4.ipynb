{
  "nbformat": 4,
  "nbformat_minor": 0,
  "metadata": {
    "colab": {
      "provenance": [],
      "authorship_tag": "ABX9TyOhI9EHGpLkZsph9MBj2aVC",
      "include_colab_link": true
    },
    "kernelspec": {
      "name": "python3",
      "display_name": "Python 3"
    },
    "language_info": {
      "name": "python"
    }
  },
  "cells": [
    {
      "cell_type": "markdown",
      "metadata": {
        "id": "view-in-github",
        "colab_type": "text"
      },
      "source": [
        "<a href=\"https://colab.research.google.com/github/mfilipak/ACBR-2023/blob/main/DAY4.ipynb\" target=\"_parent\"><img src=\"https://colab.research.google.com/assets/colab-badge.svg\" alt=\"Open In Colab\"/></a>"
      ]
    },
    {
      "cell_type": "code",
      "execution_count": 1,
      "metadata": {
        "id": "ldR042tG-DX-"
      },
      "outputs": [],
      "source": [
        "import tensorflow as tf"
      ]
    },
    {
      "cell_type": "code",
      "source": [
        "import tensorflow as tf\n",
        "from tensorflow.keras.applications import MobileNetV2\n",
        "from tensorflow.keras.preprocessing import image\n",
        "from tensorflow.keras.applications.mobilenet_v2 import preprocess_input, decode_predictions\n",
        "import numpy as np\n",
        "import matplotlib.pyplot as plt\n",
        "\n",
        "# Carregar o modelo MobileNetV2 pré-treinado na ImageNet\n",
        "model = MobileNetV2(weights='imagenet')\n",
        "\n",
        "# Carregar uma imagem de exemplo (substitua 'path_to_your_image.jpg' pelo caminho da sua imagem)\n",
        "img_path = 'f58.PNG_6_c.png'\n",
        "img = image.load_img(img_path, target_size=(224, 224))\n",
        "\n",
        "# Preprocessar a imagem para adequá-la ao modelo\n",
        "x = image.img_to_array(img)\n",
        "x = np.expand_dims(x, axis=0)\n",
        "x = preprocess_input(x)\n",
        "\n",
        "# Fazer a previsão\n",
        "preds = model.predict(x)\n",
        "\n",
        "# Decodificar as previsões\n",
        "print('Predicted:', decode_predictions(preds, top=3)[0])"
      ],
      "metadata": {
        "colab": {
          "base_uri": "https://localhost:8080/"
        },
        "id": "TBbYOUyx-Rre",
        "outputId": "475aa5eb-6302-4ec8-ed80-3274f0486743"
      },
      "execution_count": 4,
      "outputs": [
        {
          "output_type": "stream",
          "name": "stdout",
          "text": [
            "1/1 [==============================] - 1s 1s/step\n",
            "Predicted: [('n09472597', 'volcano', 0.97195375), ('n09288635', 'geyser', 0.0022737745), ('n09399592', 'promontory', 0.0010433857)]\n"
          ]
        }
      ]
    },
    {
      "cell_type": "code",
      "source": [],
      "metadata": {
        "id": "I29K0x6E-qS8"
      },
      "execution_count": null,
      "outputs": []
    }
  ]
}